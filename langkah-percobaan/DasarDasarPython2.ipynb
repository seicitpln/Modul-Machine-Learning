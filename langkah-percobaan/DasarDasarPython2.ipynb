{
 "cells": [
  {
   "cell_type": "code",
   "execution_count": 1,
   "metadata": {
    "colab": {
     "base_uri": "https://localhost:8080/"
    },
    "id": "7LhsEreSqLxT",
    "outputId": "e7eef507-a881-40da-fd4e-8db33ab26152"
   },
   "outputs": [
    {
     "name": "stdout",
     "output_type": "stream",
     "text": [
      "ini adalah teks\n"
     ]
    }
   ],
   "source": [
    "print(\"ini adalah teks\")"
   ]
  },
  {
   "cell_type": "code",
   "execution_count": 2,
   "metadata": {
    "colab": {
     "base_uri": "https://localhost:8080/"
    },
    "id": "1BuFCdM0qXvB",
    "outputId": "bb2cc75a-5354-4fc6-e7e5-258b2c63ba17"
   },
   "outputs": [
    {
     "name": "stdout",
     "output_type": "stream",
     "text": [
      "<class 'int'>\n",
      "<class 'float'>\n",
      "<class 'str'>\n",
      "<class 'complex'>\n"
     ]
    }
   ],
   "source": [
    "#variabel\n",
    "a = 123\n",
    "b = 12.3\n",
    "c = \"suherlina\"\n",
    "d = 1+4j\n",
    "\n",
    "print(type(a)) #type digunakan untuk melihat tipe data dari variabel\n",
    "print(type(b))\n",
    "print(type(c))\n",
    "print(type(d))\n"
   ]
  },
  {
   "cell_type": "code",
   "execution_count": 3,
   "metadata": {
    "colab": {
     "base_uri": "https://localhost:8080/"
    },
    "id": "s1REPLbeq9IL",
    "outputId": "bc300a1b-06dc-49a8-b67a-f9cdec1230ff"
   },
   "outputs": [
    {
     "name": "stdout",
     "output_type": "stream",
     "text": [
      "[1, 2, 2.3, 'ini text', 32]\n",
      "[1, 2, 2.3, 'ini text', 32, 'merah', 'kuning']\n",
      "[1, 2, 'rumah', 2.3, 'ini text', 32, 'merah', 'kuning']\n",
      "[1, 2, 'rumah', 2.3, 32, 'merah', 'kuning']\n",
      "[1, 2, 2.3, 32, 'merah', 'kuning']\n",
      "[1, 2, 32, 'merah', 'kuning']\n",
      "2.3\n",
      "[1, 2, 32, 'hijau', 'kuning']\n",
      "2\n"
     ]
    }
   ],
   "source": [
    "#LIST: berurutan\n",
    "contoh_list = [1, 2, 2.3, \"ini text\"]\n",
    "\n",
    "#menambah komponen\n",
    "contoh_list.append(32)\n",
    "print(contoh_list)\n",
    "\n",
    "warna = ['merah', 'kuning']\n",
    "contoh_list.extend(warna)\n",
    "print(contoh_list)\n",
    "\n",
    "contoh_list.insert(2, 'rumah')\n",
    "print(contoh_list)\n",
    "\n",
    "#menghapus elemen list\n",
    "contoh_list.remove('ini text')\n",
    "print(contoh_list)\n",
    "\n",
    "del contoh_list[2]\n",
    "print(contoh_list)\n",
    "\n",
    "out = contoh_list.pop(2)\n",
    "print(contoh_list)\n",
    "print(out)\n",
    "\n",
    "#ubah elemen list\n",
    "contoh_list[3] = 'hijau'\n",
    "print(contoh_list)\n",
    "\n",
    "print(contoh_list.index(32))"
   ]
  },
  {
   "cell_type": "code",
   "execution_count": 4,
   "metadata": {
    "colab": {
     "base_uri": "https://localhost:8080/"
    },
    "id": "rY8XSUqWrqdU",
    "outputId": "2d3a6178-639a-462b-a997-9e35fb2b3021"
   },
   "outputs": [
    {
     "name": "stdout",
     "output_type": "stream",
     "text": [
      "(1, 2, 3, 4, 'text')\n"
     ]
    }
   ],
   "source": [
    "#TUPLE\n",
    "contoh_tuple = (1, 2, 3, 4, \"text\")\n",
    "\n",
    "print(contoh_tuple)\n"
   ]
  },
  {
   "cell_type": "code",
   "execution_count": 5,
   "metadata": {
    "colab": {
     "base_uri": "https://localhost:8080/"
    },
    "id": "XjmAlDvowgXp",
    "outputId": "b6024065-2c98-49d1-ba2a-8ae485a9eb84"
   },
   "outputs": [
    {
     "name": "stdout",
     "output_type": "stream",
     "text": [
      "{1, 3, 5}\n",
      "{1, 2, 3, 4, 5, 7, 9}\n",
      "{1, 2, 3, 4, 5, 10}\n"
     ]
    }
   ],
   "source": [
    "#SET: tidak berurutan, bisa digunakan untuk himpunan\n",
    "set1 = {1,2,3,4,5}\n",
    "set2 = {1,3,5,7,9}\n",
    "\n",
    "print(set1.intersection(set2))\n",
    "print(set1.union(set2))\n",
    "set1.add(10)\n",
    "print(set1)\n"
   ]
  },
  {
   "cell_type": "code",
   "execution_count": 6,
   "metadata": {
    "colab": {
     "base_uri": "https://localhost:8080/",
     "height": 200
    },
    "id": "KOim6Wo_xYDr",
    "outputId": "370ad2d4-fa77-484b-ea66-1988b4f2f7e1"
   },
   "outputs": [
    {
     "name": "stdout",
     "output_type": "stream",
     "text": [
      "{'nama': 'suherlina', 'umur': 20, 1: 'satu'}\n",
      "contoh lagi\n"
     ]
    }
   ],
   "source": [
    "#DICTIONARY : key, value\n",
    "contoh_dict = {\n",
    "    'nama': 'suherlina',\n",
    "    'umur': 20,\n",
    "    1: 'satu'\n",
    "}\n",
    "\n",
    "print(contoh_dict)\n",
    "\n",
    "blockchain = {\n",
    "    'path': 'contoh',\n",
    "    'hash': 'contoh lagi'\n",
    "}\n",
    "print(blockchain['hash'])"
   ]
  },
  {
   "cell_type": "code",
   "execution_count": 7,
   "metadata": {
    "colab": {
     "base_uri": "https://localhost:8080/"
    },
    "id": "4w_a1RXB0g1a",
    "outputId": "f8f97848-3c92-4ca3-9170-243fa2a519b7"
   },
   "outputs": [
    {
     "name": "stdout",
     "output_type": "stream",
     "text": [
      "5\n",
      "-1\n",
      "6\n",
      "0.6666666666666666\n",
      "2\n",
      "8\n",
      "0\n",
      "False\n",
      "False\n",
      "True\n"
     ]
    }
   ],
   "source": [
    "#OPERATOR\n",
    "a = 2\n",
    "b = 3\n",
    "\n",
    "#operator matematika\n",
    "print(a + b)\n",
    "print(a - b)\n",
    "print(a * b)\n",
    "print(a / b)\n",
    "print(a % b)\n",
    "print(a ** b)\n",
    "print(a // b)\n",
    "\n",
    "#operator logika\n",
    "print(a > b) #<, <=, >=, ==, !=\n",
    "\n",
    "#operator relasi\n",
    "print(a>b and b<10)\n",
    "print(a>b or b<10)\n",
    "\n"
   ]
  },
  {
   "cell_type": "code",
   "execution_count": 8,
   "metadata": {
    "colab": {
     "base_uri": "https://localhost:8080/"
    },
    "id": "Nc6p_HoX1Oni",
    "outputId": "8f6b536f-dfca-4f4d-c249-6f36442aaa1d"
   },
   "outputs": [
    {
     "name": "stdout",
     "output_type": "stream",
     "text": [
      "C\n"
     ]
    }
   ],
   "source": [
    "#SELEKSI KONDISI \n",
    "nilai = 70\n",
    "\n",
    "if nilai >= 90 and nilai <= 100: \n",
    "    print('A')\n",
    "elif nilai >= 80 and nilai < 90:\n",
    "    print('B')\n",
    "elif nilai >= 70 and nilai < 80:\n",
    "    print('C')\n",
    "elif nilai >= 60 and nilai < 70:\n",
    "    print('D')\n",
    "elif nilai < 60:\n",
    "    print('E')\n",
    "else: \n",
    "    print('nilai harus dalam rentang 0 - 100')"
   ]
  },
  {
   "cell_type": "code",
   "execution_count": 9,
   "metadata": {
    "colab": {
     "base_uri": "https://localhost:8080/"
    },
    "id": "2YiHyAPA3NWo",
    "outputId": "5c60d311-5ed3-4142-b04e-31a3b850105f"
   },
   "outputs": [
    {
     "name": "stdout",
     "output_type": "stream",
     "text": [
      "0\n",
      "1\n",
      "2\n",
      "3\n",
      "4\n",
      "5\n",
      "6\n",
      "7\n",
      "8\n",
      "9\n"
     ]
    }
   ],
   "source": [
    "#PERULANGAN\n",
    "for i in range (0,10):\n",
    "  print(i)"
   ]
  },
  {
   "cell_type": "code",
   "execution_count": 10,
   "metadata": {
    "colab": {
     "base_uri": "https://localhost:8080/"
    },
    "id": "H6zE1Zy05VHy",
    "outputId": "fe8d7f61-a6a2-4066-c2c0-a11e2a0fd9d7"
   },
   "outputs": [
    {
     "name": "stdout",
     "output_type": "stream",
     "text": [
      "1\n",
      "2\n",
      "2.3\n",
      "ini text\n"
     ]
    }
   ],
   "source": [
    "contoh_list = [1, 2, 2.3, \"ini text\"]\n",
    "for i in contoh_list:\n",
    "  print(i)"
   ]
  },
  {
   "cell_type": "code",
   "execution_count": 11,
   "metadata": {
    "colab": {
     "base_uri": "https://localhost:8080/"
    },
    "id": "vUO_lW8E5jPo",
    "outputId": "71367d33-119d-4f90-b07d-fa4c71774205"
   },
   "outputs": [
    {
     "name": "stdout",
     "output_type": "stream",
     "text": [
      "1\n",
      "2\n",
      "3\n",
      "4\n",
      "5\n",
      "6\n",
      "7\n",
      "8\n",
      "9\n"
     ]
    }
   ],
   "source": [
    "x = 1\n",
    "while x<10:\n",
    "  print(x)\n",
    "  x+=1"
   ]
  },
  {
   "cell_type": "code",
   "execution_count": 12,
   "metadata": {
    "colab": {
     "base_uri": "https://localhost:8080/"
    },
    "id": "kYwAIidx6IO0",
    "outputId": "1a2fe98f-9dc4-43f9-b1b2-1c7b1034a090"
   },
   "outputs": [
    {
     "name": "stdout",
     "output_type": "stream",
     "text": [
      "5\n"
     ]
    }
   ],
   "source": [
    "def tambah(x,y):\n",
    "  hasil = x+y\n",
    "  return hasil\n",
    "\n",
    "jumlah = tambah(2,3)\n",
    "print(jumlah)"
   ]
  },
  {
   "cell_type": "code",
   "execution_count": null,
   "metadata": {
    "id": "IGtq0z_X7MKy"
   },
   "outputs": [],
   "source": []
  }
 ],
 "metadata": {
  "colab": {
   "name": "DasarDasarPython.ipynb",
   "provenance": []
  },
  "kernelspec": {
   "display_name": "Python 3",
   "language": "python",
   "name": "python3"
  },
  "language_info": {
   "codemirror_mode": {
    "name": "ipython",
    "version": 3
   },
   "file_extension": ".py",
   "mimetype": "text/x-python",
   "name": "python",
   "nbconvert_exporter": "python",
   "pygments_lexer": "ipython3",
   "version": "3.8.5"
  }
 },
 "nbformat": 4,
 "nbformat_minor": 1
}
