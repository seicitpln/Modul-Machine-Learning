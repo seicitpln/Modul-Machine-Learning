{
 "cells": [
  {
   "cell_type": "code",
   "execution_count": 1,
   "metadata": {},
   "outputs": [],
   "source": [
    "#IMPORT LIBRARY\n",
    "import numpy as np\n",
    "import pandas as pd\n",
    "import matplotlib.pyplot as plt\n",
    "import seaborn as sns"
   ]
  },
  {
   "cell_type": "code",
   "execution_count": 2,
   "metadata": {},
   "outputs": [
    {
     "data": {
      "text/html": [
       "<div>\n",
       "<style scoped>\n",
       "    .dataframe tbody tr th:only-of-type {\n",
       "        vertical-align: middle;\n",
       "    }\n",
       "\n",
       "    .dataframe tbody tr th {\n",
       "        vertical-align: top;\n",
       "    }\n",
       "\n",
       "    .dataframe thead th {\n",
       "        text-align: right;\n",
       "    }\n",
       "</style>\n",
       "<table border=\"1\" class=\"dataframe\">\n",
       "  <thead>\n",
       "    <tr style=\"text-align: right;\">\n",
       "      <th></th>\n",
       "      <th>umur</th>\n",
       "      <th>jenis_kelamin</th>\n",
       "      <th>pekerjaan</th>\n",
       "      <th>provinsi</th>\n",
       "      <th>gaji</th>\n",
       "      <th>is_menikah</th>\n",
       "      <th>is_keturunan</th>\n",
       "      <th>berat</th>\n",
       "      <th>tinggi</th>\n",
       "      <th>sampo</th>\n",
       "      <th>is_merokok</th>\n",
       "      <th>pendidikan</th>\n",
       "      <th>botak_prob</th>\n",
       "    </tr>\n",
       "  </thead>\n",
       "  <tbody>\n",
       "    <tr>\n",
       "      <th>859</th>\n",
       "      <td>37.0</td>\n",
       "      <td>Perempuan</td>\n",
       "      <td>Freelance</td>\n",
       "      <td>Tanjung Pinang</td>\n",
       "      <td>1.149414e+07</td>\n",
       "      <td>0</td>\n",
       "      <td>0.0</td>\n",
       "      <td>74.429467</td>\n",
       "      <td>163.222954</td>\n",
       "      <td>Merpati</td>\n",
       "      <td>1</td>\n",
       "      <td>S1</td>\n",
       "      <td>0.104577</td>\n",
       "    </tr>\n",
       "    <tr>\n",
       "      <th>2993</th>\n",
       "      <td>32.0</td>\n",
       "      <td>Laki-laki</td>\n",
       "      <td>Pengangguran</td>\n",
       "      <td>Samarinda</td>\n",
       "      <td>1.036097e+07</td>\n",
       "      <td>0</td>\n",
       "      <td>0.0</td>\n",
       "      <td>64.568216</td>\n",
       "      <td>158.553080</td>\n",
       "      <td>Merpati</td>\n",
       "      <td>0</td>\n",
       "      <td>S1</td>\n",
       "      <td>0.603226</td>\n",
       "    </tr>\n",
       "    <tr>\n",
       "      <th>6362</th>\n",
       "      <td>31.0</td>\n",
       "      <td>Perempuan</td>\n",
       "      <td>PNS</td>\n",
       "      <td>Mataram</td>\n",
       "      <td>7.544120e+06</td>\n",
       "      <td>0</td>\n",
       "      <td>0.0</td>\n",
       "      <td>65.443921</td>\n",
       "      <td>161.415535</td>\n",
       "      <td>Deadbuoy</td>\n",
       "      <td>1</td>\n",
       "      <td>SMP</td>\n",
       "      <td>0.273410</td>\n",
       "    </tr>\n",
       "    <tr>\n",
       "      <th>5402</th>\n",
       "      <td>46.0</td>\n",
       "      <td>Laki-laki</td>\n",
       "      <td>PNS</td>\n",
       "      <td>Bandung</td>\n",
       "      <td>1.038802e+07</td>\n",
       "      <td>0</td>\n",
       "      <td>1.0</td>\n",
       "      <td>62.350468</td>\n",
       "      <td>152.168157</td>\n",
       "      <td>Moonsilk</td>\n",
       "      <td>1</td>\n",
       "      <td>S1</td>\n",
       "      <td>0.772275</td>\n",
       "    </tr>\n",
       "    <tr>\n",
       "      <th>2985</th>\n",
       "      <td>41.0</td>\n",
       "      <td>Perempuan</td>\n",
       "      <td>PNS</td>\n",
       "      <td>Jayapura</td>\n",
       "      <td>3.516901e+06</td>\n",
       "      <td>0</td>\n",
       "      <td>1.0</td>\n",
       "      <td>56.120795</td>\n",
       "      <td>160.070399</td>\n",
       "      <td>Shoulder &amp; Head</td>\n",
       "      <td>1</td>\n",
       "      <td>S1</td>\n",
       "      <td>0.690528</td>\n",
       "    </tr>\n",
       "  </tbody>\n",
       "</table>\n",
       "</div>"
      ],
      "text/plain": [
       "      umur jenis_kelamin     pekerjaan        provinsi          gaji  \\\n",
       "859   37.0     Perempuan     Freelance  Tanjung Pinang  1.149414e+07   \n",
       "2993  32.0     Laki-laki  Pengangguran       Samarinda  1.036097e+07   \n",
       "6362  31.0     Perempuan           PNS         Mataram  7.544120e+06   \n",
       "5402  46.0     Laki-laki           PNS         Bandung  1.038802e+07   \n",
       "2985  41.0     Perempuan           PNS        Jayapura  3.516901e+06   \n",
       "\n",
       "      is_menikah  is_keturunan      berat      tinggi            sampo  \\\n",
       "859            0           0.0  74.429467  163.222954          Merpati   \n",
       "2993           0           0.0  64.568216  158.553080          Merpati   \n",
       "6362           0           0.0  65.443921  161.415535         Deadbuoy   \n",
       "5402           0           1.0  62.350468  152.168157         Moonsilk   \n",
       "2985           0           1.0  56.120795  160.070399  Shoulder & Head   \n",
       "\n",
       "      is_merokok pendidikan  botak_prob  \n",
       "859            1         S1    0.104577  \n",
       "2993           0         S1    0.603226  \n",
       "6362           1        SMP    0.273410  \n",
       "5402           1         S1    0.772275  \n",
       "2985           1         S1    0.690528  "
      ]
     },
     "execution_count": 2,
     "metadata": {},
     "output_type": "execute_result"
    }
   ],
   "source": [
    "#MEMBACA DATASET\n",
    "df = pd.read_csv('dataset/botak.csv')\n",
    "df.sample(5)"
   ]
  },
  {
   "cell_type": "code",
   "execution_count": 3,
   "metadata": {},
   "outputs": [
    {
     "name": "stdout",
     "output_type": "stream",
     "text": [
      "<class 'pandas.core.frame.DataFrame'>\n",
      "RangeIndex: 7991 entries, 0 to 7990\n",
      "Data columns (total 13 columns):\n",
      " #   Column         Non-Null Count  Dtype  \n",
      "---  ------         --------------  -----  \n",
      " 0   umur           7991 non-null   float64\n",
      " 1   jenis_kelamin  7982 non-null   object \n",
      " 2   pekerjaan      7924 non-null   object \n",
      " 3   provinsi       7991 non-null   object \n",
      " 4   gaji           7968 non-null   float64\n",
      " 5   is_menikah     7991 non-null   int64  \n",
      " 6   is_keturunan   7976 non-null   float64\n",
      " 7   berat          7952 non-null   float64\n",
      " 8   tinggi         7991 non-null   float64\n",
      " 9   sampo          7934 non-null   object \n",
      " 10  is_merokok     7991 non-null   int64  \n",
      " 11  pendidikan     7991 non-null   object \n",
      " 12  botak_prob     7991 non-null   float64\n",
      "dtypes: float64(6), int64(2), object(5)\n",
      "memory usage: 811.7+ KB\n"
     ]
    }
   ],
   "source": [
    "#MELIHAT RINGKASAN STATISTIK DATASET\n",
    "df.info()"
   ]
  },
  {
   "cell_type": "code",
   "execution_count": 4,
   "metadata": {},
   "outputs": [
    {
     "data": {
      "text/plain": [
       "umur              0\n",
       "jenis_kelamin     9\n",
       "pekerjaan        67\n",
       "provinsi          0\n",
       "gaji             23\n",
       "is_menikah        0\n",
       "is_keturunan     15\n",
       "berat            39\n",
       "tinggi            0\n",
       "sampo            57\n",
       "is_merokok        0\n",
       "pendidikan        0\n",
       "botak_prob        0\n",
       "dtype: int64"
      ]
     },
     "execution_count": 4,
     "metadata": {},
     "output_type": "execute_result"
    }
   ],
   "source": [
    "#CEK JUMLAH DATA KOSONG\n",
    "df.isna().sum()"
   ]
  },
  {
   "cell_type": "code",
   "execution_count": 5,
   "metadata": {},
   "outputs": [],
   "source": [
    "#mengisi nilai missing value dengan ketentuan:\n",
    "#modus untuk data kategorik dan mean untuk data numerik\n",
    "from statistics import mode\n",
    "\n",
    "jenis_kelamin_mode = mode(df['jenis_kelamin'])\n",
    "pekerjaan_mode = mode(df['pekerjaan']) \n",
    "is_keturunan_mode = mode(df['is_keturunan']) \n",
    "sampo_mode = mode(df['sampo'])\n",
    "berat_mean = df['berat'].mean() \n",
    "gaji_mean = df['gaji'].mean()\n",
    "\n",
    "kolom_missing = ['jenis_kelamin','pekerjaan',\n",
    "                 'is_keturunan','berat','sampo','gaji']\n",
    "inputan = [jenis_kelamin_mode, pekerjaan_mode,\n",
    "           is_keturunan_mode, berat_mean, sampo_mode, gaji_mean]\n",
    "\n",
    "for kolom, inputan in zip(kolom_missing, inputan): \n",
    "    df[kolom].fillna(inputan, inplace=True) "
   ]
  },
  {
   "cell_type": "code",
   "execution_count": 6,
   "metadata": {},
   "outputs": [
    {
     "name": "stdout",
     "output_type": "stream",
     "text": [
      "<class 'pandas.core.frame.DataFrame'>\n",
      "RangeIndex: 7991 entries, 0 to 7990\n",
      "Data columns (total 13 columns):\n",
      " #   Column         Non-Null Count  Dtype  \n",
      "---  ------         --------------  -----  \n",
      " 0   umur           7991 non-null   float64\n",
      " 1   jenis_kelamin  7991 non-null   object \n",
      " 2   pekerjaan      7991 non-null   object \n",
      " 3   provinsi       7991 non-null   object \n",
      " 4   gaji           7991 non-null   float64\n",
      " 5   is_menikah     7991 non-null   int64  \n",
      " 6   is_keturunan   7991 non-null   float64\n",
      " 7   berat          7991 non-null   float64\n",
      " 8   tinggi         7991 non-null   float64\n",
      " 9   sampo          7991 non-null   object \n",
      " 10  is_merokok     7991 non-null   int64  \n",
      " 11  pendidikan     7991 non-null   object \n",
      " 12  botak_prob     7991 non-null   float64\n",
      "dtypes: float64(6), int64(2), object(5)\n",
      "memory usage: 811.7+ KB\n"
     ]
    }
   ],
   "source": [
    "df.info()"
   ]
  },
  {
   "cell_type": "code",
   "execution_count": 7,
   "metadata": {},
   "outputs": [
    {
     "name": "stderr",
     "output_type": "stream",
     "text": [
      "<ipython-input-7-8c461df20f8e>:9: UserWarning: Tight layout not applied. tight_layout cannot make axes width small enough to accommodate all axes decorations\n",
      "  plt.tight_layout()\n",
      "<ipython-input-7-8c461df20f8e>:9: UserWarning: Tight layout not applied. tight_layout cannot make axes width small enough to accommodate all axes decorations\n",
      "  plt.tight_layout()\n",
      "<ipython-input-7-8c461df20f8e>:9: UserWarning: Tight layout not applied. tight_layout cannot make axes width small enough to accommodate all axes decorations\n",
      "  plt.tight_layout()\n",
      "<ipython-input-7-8c461df20f8e>:9: UserWarning: Tight layout not applied. tight_layout cannot make axes width small enough to accommodate all axes decorations\n",
      "  plt.tight_layout()\n",
      "<ipython-input-7-8c461df20f8e>:9: UserWarning: Tight layout not applied. tight_layout cannot make axes width small enough to accommodate all axes decorations\n",
      "  plt.tight_layout()\n",
      "<ipython-input-7-8c461df20f8e>:9: UserWarning: Tight layout not applied. tight_layout cannot make axes width small enough to accommodate all axes decorations\n",
      "  plt.tight_layout()\n"
     ]
    },
    {
     "data": {
      "image/png": "[encoded data removed]",
      "text/plain": [
       "<Figure size 432x288 with 8 Axes>"
      ]
     },
     "metadata": {
      "needs_background": "light"
     },
     "output_type": "display_data"
    }
   ],
   "source": [
    "#mengecek outliers\n",
    "nums  = ['umur', 'gaji', 'is_menikah', 'is_keturunan',\n",
    "         'berat', 'tinggi', 'is_merokok', 'botak_prob']\n",
    "\n",
    "features = nums\n",
    "for i in range(0, len(features)):\n",
    "    plt.subplot(1, len(features), i+1)\n",
    "    sns.boxplot(y=df[features[i]], color='green', orient='v')\n",
    "    plt.tight_layout()"
   ]
  },
  {
   "cell_type": "code",
   "execution_count": 8,
   "metadata": {},
   "outputs": [
    {
     "data": {
      "image/png": "[encoded data removed]",
      "text/plain": [
       "<Figure size 432x288 with 1 Axes>"
      ]
     },
     "metadata": {
      "needs_background": "light"
     },
     "output_type": "display_data"
    },
    {
     "name": "stdout",
     "output_type": "stream",
     "text": [
      "Jumlah Baris dengan outlier : 7991\n"
     ]
    }
   ],
   "source": [
    "#mengatasi outlier pada kolom berat dan tinggi\n",
    "kolom_numerik = ['berat', 'tinggi']\n",
    "plt.boxplot(df[kolom_numerik])\n",
    "plt.xticks([1, 2], kolom_numerik)\n",
    "plt.title('Outlier Sebelum Dibuang')\n",
    "plt.show() \n",
    "print(f'Jumlah Baris dengan outlier : {df.shape[0]}')"
   ]
  },
  {
   "cell_type": "code",
   "execution_count": 9,
   "metadata": {},
   "outputs": [],
   "source": [
    "# Buang Outlier\n",
    "# Q1, Q3, dan IQR\n",
    "Q1 = df[kolom_numerik].quantile(0.25)\n",
    "Q3 = df[kolom_numerik].quantile(0.75)\n",
    "IQR = Q3 - Q1\n",
    "df = df[~((df[kolom_numerik] < (Q1 - 1.5 * IQR)) | \n",
    "          (df[kolom_numerik] > (Q3 + 1.5 * IQR))).any(axis=1)] "
   ]
  },
  {
   "cell_type": "code",
   "execution_count": 10,
   "metadata": {},
   "outputs": [
    {
     "data": {
      "image/png": "[encoded data removed]",
      "text/plain": [
       "<Figure size 432x288 with 1 Axes>"
      ]
     },
     "metadata": {
      "needs_background": "light"
     },
     "output_type": "display_data"
    },
    {
     "name": "stdout",
     "output_type": "stream",
     "text": [
      "Jumlah Baris Tanpa Outlier : 7637\n"
     ]
    }
   ],
   "source": [
    "# Cek Ulang \n",
    "plt.boxplot(df[kolom_numerik])\n",
    "plt.xticks([1, 2], kolom_numerik)\n",
    "plt.title('Outlier Setelah Dibuang')\n",
    "plt.show() \n",
    "print(f'Jumlah Baris Tanpa Outlier : {df.shape[0]}') "
   ]
  },
  {
   "cell_type": "code",
   "execution_count": 11,
   "metadata": {},
   "outputs": [
    {
     "name": "stdout",
     "output_type": "stream",
     "text": [
      "<class 'pandas.core.frame.DataFrame'>\n",
      "Int64Index: 603 entries, 11 to 7990\n",
      "Data columns (total 13 columns):\n",
      " #   Column         Non-Null Count  Dtype  \n",
      "---  ------         --------------  -----  \n",
      " 0   umur           603 non-null    float64\n",
      " 1   jenis_kelamin  603 non-null    object \n",
      " 2   pekerjaan      603 non-null    object \n",
      " 3   provinsi       603 non-null    object \n",
      " 4   gaji           603 non-null    float64\n",
      " 5   is_menikah     603 non-null    int64  \n",
      " 6   is_keturunan   603 non-null    float64\n",
      " 7   berat          603 non-null    float64\n",
      " 8   tinggi         603 non-null    float64\n",
      " 9   sampo          603 non-null    object \n",
      " 10  is_merokok     603 non-null    int64  \n",
      " 11  pendidikan     603 non-null    object \n",
      " 12  botak_prob     603 non-null    float64\n",
      "dtypes: float64(6), int64(2), object(5)\n",
      "memory usage: 66.0+ KB\n"
     ]
    }
   ],
   "source": [
    "prob_botak_70 = df[df['botak_prob'] >= 0.7]\n",
    "prob_botak_70.info()"
   ]
  },
  {
   "cell_type": "code",
   "execution_count": 12,
   "metadata": {},
   "outputs": [
    {
     "data": {
      "image/png": "[encoded data removed]",
      "text/plain": [
       "<Figure size 432x288 with 1 Axes>"
      ]
     },
     "metadata": {
      "needs_background": "light"
     },
     "output_type": "display_data"
    }
   ],
   "source": [
    "# UMUR \n",
    "fig3, axs3 = plt.subplots()\n",
    "sns.histplot(prob_botak_70, x='umur', bins=20, color='blue', alpha=0.5, kde=True, ax=axs3)\n",
    "axs3.lines[0].set_color('red') \n",
    "axs3.axvline(x=prob_botak_70.umur.mean(), color='green', ls='--', lw=2)\n",
    "axs3.set_title('Distribusi Umur Orang Yang memiliki Probalilitas Botak Lebih Dari 70%')\n",
    "plt.show()"
   ]
  },
  {
   "cell_type": "code",
   "execution_count": 13,
   "metadata": {},
   "outputs": [
    {
     "name": "stdout",
     "output_type": "stream",
     "text": [
      "<class 'pandas.core.frame.DataFrame'>\n",
      "Int64Index: 7637 entries, 0 to 7990\n",
      "Data columns (total 13 columns):\n",
      " #   Column         Non-Null Count  Dtype  \n",
      "---  ------         --------------  -----  \n",
      " 0   umur           7637 non-null   float64\n",
      " 1   jenis_kelamin  7637 non-null   object \n",
      " 2   pekerjaan      7637 non-null   object \n",
      " 3   provinsi       7637 non-null   object \n",
      " 4   gaji           7637 non-null   float64\n",
      " 5   is_menikah     7637 non-null   int64  \n",
      " 6   is_keturunan   7637 non-null   float64\n",
      " 7   berat          7637 non-null   float64\n",
      " 8   tinggi         7637 non-null   float64\n",
      " 9   sampo          7637 non-null   object \n",
      " 10  is_merokok     7637 non-null   int64  \n",
      " 11  pendidikan     7637 non-null   object \n",
      " 12  botak_prob     7637 non-null   float64\n",
      "dtypes: float64(6), int64(2), object(5)\n",
      "memory usage: 835.3+ KB\n"
     ]
    }
   ],
   "source": [
    "df.info()"
   ]
  },
  {
   "cell_type": "code",
   "execution_count": 14,
   "metadata": {},
   "outputs": [
    {
     "name": "stdout",
     "output_type": "stream",
     "text": [
      "['Laki-laki' 'Perempuan']\n",
      "['PNS' 'Pegawai swasta' 'Freelance' 'Pengangguran']\n",
      "['Deadbuoy' 'Moonsilk' 'Merpati' 'Pantone' 'Shoulder & Head']\n",
      "['S1' 'SMA' 'S2' 'SMP' 'SD' 'S3']\n"
     ]
    }
   ],
   "source": [
    "cats = ['jenis_kelamin', 'pekerjaan', 'sampo', 'pendidikan']\n",
    "features = cats\n",
    "for i in range(0, len(features)):\n",
    "    print(df[features[i]].unique())"
   ]
  },
  {
   "cell_type": "code",
   "execution_count": 15,
   "metadata": {},
   "outputs": [],
   "source": [
    "gender_map = ({'Laki-laki' : 1, \n",
    "               'Perempuan' : 0})\n",
    "pekerjaan_map = ({'PNS' : 0, \n",
    "                  'Pegawai swasta' : 1, \n",
    "                  'Freelance' : 2, \n",
    "                  'Pengangguran' : 3})\n",
    "sampo_map = ({'Deadbuoy' : 0, \n",
    "              'Moonsilk' :1, \n",
    "              'Merpati' : 2,\n",
    "              'Pantone' : 3, \n",
    "              'Shoulder & Head' : 4}) \n",
    "pendidikan_map = ({'SD' : 0, \n",
    "                   'SMP' : 1, \n",
    "                   'SMA' : 2, \n",
    "                   'S1' : 3,\n",
    "                   'S2': 4, \n",
    "                   'S3': 5}) \n",
    "\n",
    "my_map = [gender_map,pekerjaan_map,sampo_map,pendidikan_map]\n",
    "\n",
    "for kolom,my_map in zip(cats, my_map): \n",
    "    df[kolom] = df[kolom].map(my_map)"
   ]
  },
  {
   "cell_type": "code",
   "execution_count": 16,
   "metadata": {},
   "outputs": [
    {
     "name": "stdout",
     "output_type": "stream",
     "text": [
      "[1 0]\n",
      "[0 1 2 3]\n",
      "[0 1 2 3 4]\n",
      "[3 2 4 1 0 5]\n"
     ]
    }
   ],
   "source": [
    "cats = ['jenis_kelamin', 'pekerjaan', 'sampo', 'pendidikan']\n",
    "features = cats\n",
    "for i in range(0, len(features)):\n",
    "    print(df[features[i]].unique())"
   ]
  },
  {
   "cell_type": "code",
   "execution_count": 17,
   "metadata": {},
   "outputs": [
    {
     "data": {
      "text/html": [
       "<div>\n",
       "<style scoped>\n",
       "    .dataframe tbody tr th:only-of-type {\n",
       "        vertical-align: middle;\n",
       "    }\n",
       "\n",
       "    .dataframe tbody tr th {\n",
       "        vertical-align: top;\n",
       "    }\n",
       "\n",
       "    .dataframe thead th {\n",
       "        text-align: right;\n",
       "    }\n",
       "</style>\n",
       "<table border=\"1\" class=\"dataframe\">\n",
       "  <thead>\n",
       "    <tr style=\"text-align: right;\">\n",
       "      <th></th>\n",
       "      <th>umur</th>\n",
       "      <th>jenis_kelamin</th>\n",
       "      <th>pekerjaan</th>\n",
       "      <th>gaji</th>\n",
       "      <th>is_menikah</th>\n",
       "      <th>is_keturunan</th>\n",
       "      <th>berat</th>\n",
       "      <th>tinggi</th>\n",
       "      <th>sampo</th>\n",
       "      <th>is_merokok</th>\n",
       "      <th>pendidikan</th>\n",
       "      <th>botak_prob</th>\n",
       "    </tr>\n",
       "  </thead>\n",
       "  <tbody>\n",
       "    <tr>\n",
       "      <th>count</th>\n",
       "      <td>7637.000000</td>\n",
       "      <td>7637.000000</td>\n",
       "      <td>7637.000000</td>\n",
       "      <td>7.637000e+03</td>\n",
       "      <td>7637.000000</td>\n",
       "      <td>7637.000000</td>\n",
       "      <td>7637.000000</td>\n",
       "      <td>7637.000000</td>\n",
       "      <td>7637.000000</td>\n",
       "      <td>7637.000000</td>\n",
       "      <td>7637.000000</td>\n",
       "      <td>7637.000000</td>\n",
       "    </tr>\n",
       "    <tr>\n",
       "      <th>mean</th>\n",
       "      <td>39.674480</td>\n",
       "      <td>0.667932</td>\n",
       "      <td>0.831871</td>\n",
       "      <td>9.461383e+06</td>\n",
       "      <td>0.031033</td>\n",
       "      <td>0.193924</td>\n",
       "      <td>55.198942</td>\n",
       "      <td>156.987646</td>\n",
       "      <td>2.000524</td>\n",
       "      <td>0.500589</td>\n",
       "      <td>2.645803</td>\n",
       "      <td>0.396499</td>\n",
       "    </tr>\n",
       "    <tr>\n",
       "      <th>std</th>\n",
       "      <td>10.032404</td>\n",
       "      <td>0.470986</td>\n",
       "      <td>0.824910</td>\n",
       "      <td>4.793283e+06</td>\n",
       "      <td>0.173419</td>\n",
       "      <td>0.395396</td>\n",
       "      <td>7.266706</td>\n",
       "      <td>5.825779</td>\n",
       "      <td>1.398008</td>\n",
       "      <td>0.500032</td>\n",
       "      <td>0.898233</td>\n",
       "      <td>0.191291</td>\n",
       "    </tr>\n",
       "    <tr>\n",
       "      <th>min</th>\n",
       "      <td>3.000000</td>\n",
       "      <td>0.000000</td>\n",
       "      <td>0.000000</td>\n",
       "      <td>1.500000e+06</td>\n",
       "      <td>0.000000</td>\n",
       "      <td>0.000000</td>\n",
       "      <td>40.000000</td>\n",
       "      <td>140.624320</td>\n",
       "      <td>0.000000</td>\n",
       "      <td>0.000000</td>\n",
       "      <td>0.000000</td>\n",
       "      <td>-0.115700</td>\n",
       "    </tr>\n",
       "    <tr>\n",
       "      <th>25%</th>\n",
       "      <td>33.000000</td>\n",
       "      <td>0.000000</td>\n",
       "      <td>0.000000</td>\n",
       "      <td>6.109035e+06</td>\n",
       "      <td>0.000000</td>\n",
       "      <td>0.000000</td>\n",
       "      <td>49.767977</td>\n",
       "      <td>152.910890</td>\n",
       "      <td>1.000000</td>\n",
       "      <td>0.000000</td>\n",
       "      <td>2.000000</td>\n",
       "      <td>0.260708</td>\n",
       "    </tr>\n",
       "    <tr>\n",
       "      <th>50%</th>\n",
       "      <td>40.000000</td>\n",
       "      <td>1.000000</td>\n",
       "      <td>1.000000</td>\n",
       "      <td>8.426402e+06</td>\n",
       "      <td>0.000000</td>\n",
       "      <td>0.000000</td>\n",
       "      <td>53.917817</td>\n",
       "      <td>156.920384</td>\n",
       "      <td>2.000000</td>\n",
       "      <td>1.000000</td>\n",
       "      <td>3.000000</td>\n",
       "      <td>0.373199</td>\n",
       "    </tr>\n",
       "    <tr>\n",
       "      <th>75%</th>\n",
       "      <td>47.000000</td>\n",
       "      <td>1.000000</td>\n",
       "      <td>1.000000</td>\n",
       "      <td>1.152087e+07</td>\n",
       "      <td>0.000000</td>\n",
       "      <td>0.000000</td>\n",
       "      <td>59.601606</td>\n",
       "      <td>160.962342</td>\n",
       "      <td>3.000000</td>\n",
       "      <td>1.000000</td>\n",
       "      <td>3.000000</td>\n",
       "      <td>0.512380</td>\n",
       "    </tr>\n",
       "    <tr>\n",
       "      <th>max</th>\n",
       "      <td>78.000000</td>\n",
       "      <td>1.000000</td>\n",
       "      <td>3.000000</td>\n",
       "      <td>5.000000e+07</td>\n",
       "      <td>1.000000</td>\n",
       "      <td>1.000000</td>\n",
       "      <td>76.813519</td>\n",
       "      <td>174.166621</td>\n",
       "      <td>4.000000</td>\n",
       "      <td>1.000000</td>\n",
       "      <td>5.000000</td>\n",
       "      <td>1.000000</td>\n",
       "    </tr>\n",
       "  </tbody>\n",
       "</table>\n",
       "</div>"
      ],
      "text/plain": [
       "              umur  jenis_kelamin    pekerjaan          gaji   is_menikah  \\\n",
       "count  7637.000000    7637.000000  7637.000000  7.637000e+03  7637.000000   \n",
       "mean     39.674480       0.667932     0.831871  9.461383e+06     0.031033   \n",
       "std      10.032404       0.470986     0.824910  4.793283e+06     0.173419   \n",
       "min       3.000000       0.000000     0.000000  1.500000e+06     0.000000   \n",
       "25%      33.000000       0.000000     0.000000  6.109035e+06     0.000000   \n",
       "50%      40.000000       1.000000     1.000000  8.426402e+06     0.000000   \n",
       "75%      47.000000       1.000000     1.000000  1.152087e+07     0.000000   \n",
       "max      78.000000       1.000000     3.000000  5.000000e+07     1.000000   \n",
       "\n",
       "       is_keturunan        berat       tinggi        sampo   is_merokok  \\\n",
       "count   7637.000000  7637.000000  7637.000000  7637.000000  7637.000000   \n",
       "mean       0.193924    55.198942   156.987646     2.000524     0.500589   \n",
       "std        0.395396     7.266706     5.825779     1.398008     0.500032   \n",
       "min        0.000000    40.000000   140.624320     0.000000     0.000000   \n",
       "25%        0.000000    49.767977   152.910890     1.000000     0.000000   \n",
       "50%        0.000000    53.917817   156.920384     2.000000     1.000000   \n",
       "75%        0.000000    59.601606   160.962342     3.000000     1.000000   \n",
       "max        1.000000    76.813519   174.166621     4.000000     1.000000   \n",
       "\n",
       "        pendidikan   botak_prob  \n",
       "count  7637.000000  7637.000000  \n",
       "mean      2.645803     0.396499  \n",
       "std       0.898233     0.191291  \n",
       "min       0.000000    -0.115700  \n",
       "25%       2.000000     0.260708  \n",
       "50%       3.000000     0.373199  \n",
       "75%       3.000000     0.512380  \n",
       "max       5.000000     1.000000  "
      ]
     },
     "execution_count": 17,
     "metadata": {},
     "output_type": "execute_result"
    }
   ],
   "source": [
    "#MENGATASI NILAI ERROR\n",
    "df.describe()"
   ]
  },
  {
   "cell_type": "code",
   "execution_count": 18,
   "metadata": {},
   "outputs": [
    {
     "name": "stdout",
     "output_type": "stream",
     "text": [
      "jumlah data yang tidak sesuai (bernilai negatif): 35\n"
     ]
    }
   ],
   "source": [
    "#melihat jumlah data yang memiliki nilai botal_prob negatif\n",
    "print('jumlah data yang tidak sesuai (bernilai negatif):',\n",
    "      df[df['botak_prob']<0].shape[0])\n",
    "\n",
    "df.loc[df['botak_prob'] <0,'botak_prob'] = df['botak_prob'].mean()"
   ]
  },
  {
   "cell_type": "code",
   "execution_count": 19,
   "metadata": {},
   "outputs": [
    {
     "data": {
      "text/plain": [
       "count    7637.000000\n",
       "mean        0.398477\n",
       "std         0.189025\n",
       "min         0.002085\n",
       "25%         0.262805\n",
       "50%         0.375437\n",
       "75%         0.512380\n",
       "max         1.000000\n",
       "Name: botak_prob, dtype: float64"
      ]
     },
     "execution_count": 19,
     "metadata": {},
     "output_type": "execute_result"
    }
   ],
   "source": [
    "df['botak_prob'].describe()"
   ]
  },
  {
   "cell_type": "markdown",
   "metadata": {},
   "source": [
    "# REGRESI LINIER SEDERHANA"
   ]
  },
  {
   "cell_type": "code",
   "execution_count": 20,
   "metadata": {},
   "outputs": [
    {
     "name": "stdout",
     "output_type": "stream",
     "text": [
      "<class 'pandas.core.frame.DataFrame'>\n",
      "Int64Index: 7637 entries, 0 to 7990\n",
      "Data columns (total 13 columns):\n",
      " #   Column         Non-Null Count  Dtype  \n",
      "---  ------         --------------  -----  \n",
      " 0   umur           7637 non-null   float64\n",
      " 1   jenis_kelamin  7637 non-null   int64  \n",
      " 2   pekerjaan      7637 non-null   int64  \n",
      " 3   provinsi       7637 non-null   object \n",
      " 4   gaji           7637 non-null   float64\n",
      " 5   is_menikah     7637 non-null   int64  \n",
      " 6   is_keturunan   7637 non-null   float64\n",
      " 7   berat          7637 non-null   float64\n",
      " 8   tinggi         7637 non-null   float64\n",
      " 9   sampo          7637 non-null   int64  \n",
      " 10  is_merokok     7637 non-null   int64  \n",
      " 11  pendidikan     7637 non-null   int64  \n",
      " 12  botak_prob     7637 non-null   float64\n",
      "dtypes: float64(6), int64(6), object(1)\n",
      "memory usage: 835.3+ KB\n"
     ]
    }
   ],
   "source": [
    "df.info()"
   ]
  },
  {
   "cell_type": "code",
   "execution_count": 21,
   "metadata": {},
   "outputs": [
    {
     "data": {
      "text/html": [
       "<div>\n",
       "<style scoped>\n",
       "    .dataframe tbody tr th:only-of-type {\n",
       "        vertical-align: middle;\n",
       "    }\n",
       "\n",
       "    .dataframe tbody tr th {\n",
       "        vertical-align: top;\n",
       "    }\n",
       "\n",
       "    .dataframe thead th {\n",
       "        text-align: right;\n",
       "    }\n",
       "</style>\n",
       "<table border=\"1\" class=\"dataframe\">\n",
       "  <thead>\n",
       "    <tr style=\"text-align: right;\">\n",
       "      <th></th>\n",
       "      <th>umur</th>\n",
       "      <th>jenis_kelamin</th>\n",
       "      <th>pekerjaan</th>\n",
       "      <th>gaji</th>\n",
       "      <th>is_menikah</th>\n",
       "      <th>is_keturunan</th>\n",
       "      <th>berat</th>\n",
       "      <th>tinggi</th>\n",
       "      <th>sampo</th>\n",
       "      <th>is_merokok</th>\n",
       "      <th>pendidikan</th>\n",
       "      <th>botak_prob</th>\n",
       "    </tr>\n",
       "  </thead>\n",
       "  <tbody>\n",
       "    <tr>\n",
       "      <th>count</th>\n",
       "      <td>7637.000000</td>\n",
       "      <td>7637.000000</td>\n",
       "      <td>7637.000000</td>\n",
       "      <td>7.637000e+03</td>\n",
       "      <td>7637.000000</td>\n",
       "      <td>7637.000000</td>\n",
       "      <td>7637.000000</td>\n",
       "      <td>7637.000000</td>\n",
       "      <td>7637.000000</td>\n",
       "      <td>7637.000000</td>\n",
       "      <td>7637.000000</td>\n",
       "      <td>7637.000000</td>\n",
       "    </tr>\n",
       "    <tr>\n",
       "      <th>mean</th>\n",
       "      <td>39.674480</td>\n",
       "      <td>0.667932</td>\n",
       "      <td>0.831871</td>\n",
       "      <td>9.461383e+06</td>\n",
       "      <td>0.031033</td>\n",
       "      <td>0.193924</td>\n",
       "      <td>55.198942</td>\n",
       "      <td>156.987646</td>\n",
       "      <td>2.000524</td>\n",
       "      <td>0.500589</td>\n",
       "      <td>2.645803</td>\n",
       "      <td>0.398477</td>\n",
       "    </tr>\n",
       "    <tr>\n",
       "      <th>std</th>\n",
       "      <td>10.032404</td>\n",
       "      <td>0.470986</td>\n",
       "      <td>0.824910</td>\n",
       "      <td>4.793283e+06</td>\n",
       "      <td>0.173419</td>\n",
       "      <td>0.395396</td>\n",
       "      <td>7.266706</td>\n",
       "      <td>5.825779</td>\n",
       "      <td>1.398008</td>\n",
       "      <td>0.500032</td>\n",
       "      <td>0.898233</td>\n",
       "      <td>0.189025</td>\n",
       "    </tr>\n",
       "    <tr>\n",
       "      <th>min</th>\n",
       "      <td>3.000000</td>\n",
       "      <td>0.000000</td>\n",
       "      <td>0.000000</td>\n",
       "      <td>1.500000e+06</td>\n",
       "      <td>0.000000</td>\n",
       "      <td>0.000000</td>\n",
       "      <td>40.000000</td>\n",
       "      <td>140.624320</td>\n",
       "      <td>0.000000</td>\n",
       "      <td>0.000000</td>\n",
       "      <td>0.000000</td>\n",
       "      <td>0.002085</td>\n",
       "    </tr>\n",
       "    <tr>\n",
       "      <th>25%</th>\n",
       "      <td>33.000000</td>\n",
       "      <td>0.000000</td>\n",
       "      <td>0.000000</td>\n",
       "      <td>6.109035e+06</td>\n",
       "      <td>0.000000</td>\n",
       "      <td>0.000000</td>\n",
       "      <td>49.767977</td>\n",
       "      <td>152.910890</td>\n",
       "      <td>1.000000</td>\n",
       "      <td>0.000000</td>\n",
       "      <td>2.000000</td>\n",
       "      <td>0.262805</td>\n",
       "    </tr>\n",
       "    <tr>\n",
       "      <th>50%</th>\n",
       "      <td>40.000000</td>\n",
       "      <td>1.000000</td>\n",
       "      <td>1.000000</td>\n",
       "      <td>8.426402e+06</td>\n",
       "      <td>0.000000</td>\n",
       "      <td>0.000000</td>\n",
       "      <td>53.917817</td>\n",
       "      <td>156.920384</td>\n",
       "      <td>2.000000</td>\n",
       "      <td>1.000000</td>\n",
       "      <td>3.000000</td>\n",
       "      <td>0.375437</td>\n",
       "    </tr>\n",
       "    <tr>\n",
       "      <th>75%</th>\n",
       "      <td>47.000000</td>\n",
       "      <td>1.000000</td>\n",
       "      <td>1.000000</td>\n",
       "      <td>1.152087e+07</td>\n",
       "      <td>0.000000</td>\n",
       "      <td>0.000000</td>\n",
       "      <td>59.601606</td>\n",
       "      <td>160.962342</td>\n",
       "      <td>3.000000</td>\n",
       "      <td>1.000000</td>\n",
       "      <td>3.000000</td>\n",
       "      <td>0.512380</td>\n",
       "    </tr>\n",
       "    <tr>\n",
       "      <th>max</th>\n",
       "      <td>78.000000</td>\n",
       "      <td>1.000000</td>\n",
       "      <td>3.000000</td>\n",
       "      <td>5.000000e+07</td>\n",
       "      <td>1.000000</td>\n",
       "      <td>1.000000</td>\n",
       "      <td>76.813519</td>\n",
       "      <td>174.166621</td>\n",
       "      <td>4.000000</td>\n",
       "      <td>1.000000</td>\n",
       "      <td>5.000000</td>\n",
       "      <td>1.000000</td>\n",
       "    </tr>\n",
       "  </tbody>\n",
       "</table>\n",
       "</div>"
      ],
      "text/plain": [
       "              umur  jenis_kelamin    pekerjaan          gaji   is_menikah  \\\n",
       "count  7637.000000    7637.000000  7637.000000  7.637000e+03  7637.000000   \n",
       "mean     39.674480       0.667932     0.831871  9.461383e+06     0.031033   \n",
       "std      10.032404       0.470986     0.824910  4.793283e+06     0.173419   \n",
       "min       3.000000       0.000000     0.000000  1.500000e+06     0.000000   \n",
       "25%      33.000000       0.000000     0.000000  6.109035e+06     0.000000   \n",
       "50%      40.000000       1.000000     1.000000  8.426402e+06     0.000000   \n",
       "75%      47.000000       1.000000     1.000000  1.152087e+07     0.000000   \n",
       "max      78.000000       1.000000     3.000000  5.000000e+07     1.000000   \n",
       "\n",
       "       is_keturunan        berat       tinggi        sampo   is_merokok  \\\n",
       "count   7637.000000  7637.000000  7637.000000  7637.000000  7637.000000   \n",
       "mean       0.193924    55.198942   156.987646     2.000524     0.500589   \n",
       "std        0.395396     7.266706     5.825779     1.398008     0.500032   \n",
       "min        0.000000    40.000000   140.624320     0.000000     0.000000   \n",
       "25%        0.000000    49.767977   152.910890     1.000000     0.000000   \n",
       "50%        0.000000    53.917817   156.920384     2.000000     1.000000   \n",
       "75%        0.000000    59.601606   160.962342     3.000000     1.000000   \n",
       "max        1.000000    76.813519   174.166621     4.000000     1.000000   \n",
       "\n",
       "        pendidikan   botak_prob  \n",
       "count  7637.000000  7637.000000  \n",
       "mean      2.645803     0.398477  \n",
       "std       0.898233     0.189025  \n",
       "min       0.000000     0.002085  \n",
       "25%       2.000000     0.262805  \n",
       "50%       3.000000     0.375437  \n",
       "75%       3.000000     0.512380  \n",
       "max       5.000000     1.000000  "
      ]
     },
     "execution_count": 21,
     "metadata": {},
     "output_type": "execute_result"
    }
   ],
   "source": [
    "df.describe()"
   ]
  },
  {
   "cell_type": "code",
   "execution_count": 22,
   "metadata": {},
   "outputs": [],
   "source": [
    "#Bagi data ke features dan label \n",
    "#kolom gaji dan provinsi tidak dibutuhkan\n",
    "X = df[['umur','jenis_kelamin',\n",
    "        'pekerjaan','is_menikah',\n",
    "        'is_keturunan','berat',\n",
    "        'tinggi','sampo',\n",
    "        'is_merokok','pendidikan']] #Kolom Features\n",
    "y = df['botak_prob'] #Kolom class/label"
   ]
  },
  {
   "cell_type": "code",
   "execution_count": 23,
   "metadata": {},
   "outputs": [],
   "source": [
    "from sklearn.model_selection import train_test_split\n",
    "\n",
    "X_train, X_test, y_train, y_test = train_test_split(X, y,\n",
    "                                                    test_size=0.25)"
   ]
  },
  {
   "cell_type": "code",
   "execution_count": 24,
   "metadata": {},
   "outputs": [],
   "source": [
    "from sklearn.linear_model import LinearRegression\n",
    "model = LinearRegression()\n",
    "model = model.fit(X_train, y_train)\n",
    "\n",
    "y_pred = model.predict(X_test)"
   ]
  },
  {
   "cell_type": "code",
   "execution_count": 25,
   "metadata": {},
   "outputs": [
    {
     "name": "stdout",
     "output_type": "stream",
     "text": [
      "MSE:  0.011998443738242352\n",
      "RMSE:  0.10953740794012953\n"
     ]
    }
   ],
   "source": [
    "from sklearn.metrics import mean_squared_error\n",
    "mse = mean_squared_error(y_test, y_pred)\n",
    "print('MSE: ',mse)\n",
    "\n",
    "rmse = np.sqrt(mse)\n",
    "print('RMSE: ',rmse)"
   ]
  },
  {
   "cell_type": "code",
   "execution_count": 27,
   "metadata": {},
   "outputs": [
    {
     "data": {
      "text/plain": [
       "0.6494862935547299"
      ]
     },
     "execution_count": 27,
     "metadata": {},
     "output_type": "execute_result"
    }
   ],
   "source": [
    "from sklearn.metrics import r2_score\n",
    "r2_squared = r2_score(y_test, y_pred)\n",
    "r2_squared"
   ]
  },
  {
   "cell_type": "code",
   "execution_count": 26,
   "metadata": {},
   "outputs": [],
   "source": [
    "#SIMPAN MODEL YANG SUDAH DIBUAT\n",
    "import pickle\n",
    "\n",
    "pickle.dump(model, open('regresi_kebotakan.pkl','wb'))"
   ]
  }
 ],
 "metadata": {
  "kernelspec": {
   "display_name": "Python 3",
   "language": "python",
   "name": "python3"
  },
  "language_info": {
   "codemirror_mode": {
    "name": "ipython",
    "version": 3
   },
   "file_extension": ".py",
   "mimetype": "text/x-python",
   "name": "python",
   "nbconvert_exporter": "python",
   "pygments_lexer": "ipython3",
   "version": "3.8.5"
  }
 },
 "nbformat": 4,
 "nbformat_minor": 4
}
